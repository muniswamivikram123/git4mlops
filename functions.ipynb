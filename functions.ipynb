{
 "cells": [
  {
   "cell_type": "markdown",
   "id": "c5bec7b1",
   "metadata": {},
   "source": [
    "# function in python\n",
    "## define a block of code that only runs when it is called\n",
    "## functions can be passed data as parameters\n",
    "## function can return values\n",
    "## white space in python is important"
   ]
  },
  {
   "cell_type": "code",
   "execution_count": 1,
   "id": "ffde2d3c",
   "metadata": {},
   "outputs": [
    {
     "name": "stdout",
     "output_type": "stream",
     "text": [
      "mvikram\n"
     ]
    }
   ],
   "source": [
    "# a simple function\n",
    "\n",
    "def print_name():\n",
    "    my_name=\"mvikram\"\n",
    "    print(my_name)\n",
    "print_name()"
   ]
  },
  {
   "cell_type": "code",
   "execution_count": 5,
   "id": "4e80867c",
   "metadata": {},
   "outputs": [
    {
     "name": "stdout",
     "output_type": "stream",
     "text": [
      "im about 12045 days old\n"
     ]
    }
   ],
   "source": [
    "# a function that takes a single parameters\n",
    "\n",
    "def calculate_days_old(age_in_years):\n",
    "    days_in_year=365\n",
    "    age_in_days=age_in_years * days_in_year\n",
    "    report= (f\"im about {age_in_days} days old\")\n",
    "    print(report)\n",
    "calculate_days_old(33)"
   ]
  },
  {
   "cell_type": "code",
   "execution_count": 6,
   "id": "e9c97a07",
   "metadata": {},
   "outputs": [],
   "source": [
    "def get_days_old(age_in_years):\n",
    "    days_in_year = 365\n",
    "    return age_in_years * days_in_year\n",
    "days_old=get_days_old(24)"
   ]
  },
  {
   "cell_type": "code",
   "execution_count": 7,
   "id": "ce12eef0",
   "metadata": {},
   "outputs": [
    {
     "name": "stdout",
     "output_type": "stream",
     "text": [
      "8760\n"
     ]
    }
   ],
   "source": [
    "print(days_old)"
   ]
  },
  {
   "cell_type": "code",
   "execution_count": null,
   "id": "15bf8471",
   "metadata": {},
   "outputs": [],
   "source": [
    " "
   ]
  }
 ],
 "metadata": {
  "kernelspec": {
   "display_name": "Python 3 (ipykernel)",
   "language": "python",
   "name": "python3"
  },
  "language_info": {
   "codemirror_mode": {
    "name": "ipython",
    "version": 3
   },
   "file_extension": ".py",
   "mimetype": "text/x-python",
   "name": "python",
   "nbconvert_exporter": "python",
   "pygments_lexer": "ipython3",
   "version": "3.9.13"
  }
 },
 "nbformat": 4,
 "nbformat_minor": 5
}
